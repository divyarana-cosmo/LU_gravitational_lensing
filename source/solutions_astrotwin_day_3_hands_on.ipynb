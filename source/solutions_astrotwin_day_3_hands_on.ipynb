{
 "cells": [
  {
   "cell_type": "markdown",
   "metadata": {},
   "source": [
    "# Day 3 Solutions"
   ]
  },
  {
   "cell_type": "code",
   "execution_count": 1,
   "metadata": {},
   "outputs": [],
   "source": [
    "#loading the required packages\n",
    "%matplotlib inline\n",
    "import pandas as pd\n",
    "import numpy as np\n",
    "import matplotlib.pyplot as plt\n",
    "from scipy.spatial import cKDTree\n",
    "from astropy.cosmology import FlatLambdaCDM\n",
    "import glob\n"
   ]
  },
  {
   "cell_type": "code",
   "execution_count": 2,
   "metadata": {},
   "outputs": [],
   "source": [
    "def get_xyz(ra, dec):\n",
    "    ra = ra*np.pi/180.\n",
    "    dec = dec*np.pi/180.\n",
    "    x = np.cos(dec)*np.cos(ra)\n",
    "    y = np.cos(dec)*np.sin(ra)\n",
    "    z = np.sin(dec) \n",
    "    return x, y, z\n"
   ]
  },
  {
   "cell_type": "code",
   "execution_count": 3,
   "metadata": {},
   "outputs": [
    {
     "name": "stdout",
     "output_type": "stream",
     "text": [
      "(0.43301270189221946, 0.25, 0.8660254037844386)\n"
     ]
    }
   ],
   "source": [
    "print(get_xyz(30,60))"
   ]
  },
  {
   "cell_type": "code",
   "execution_count": 4,
   "metadata": {
    "jupyter": {
     "source_hidden": true
    }
   },
   "outputs": [],
   "source": [
    "# selection cut on the lens sample\n",
    "def lens_select(zmin=0.1, zmax=0.33, lammin=55, lammax=100):\n",
    "    #please check the file path properly \n",
    "    data = pd.read_csv('/home/idies/workspace/Storage/divyar/AstroTwin_Colo_2024/DataStore/redmapper.dat', delim_whitespace=1)\n",
    "    #sample selection cut\n",
    "    idx  = (data['lambda']>lammin) & (data['lambda']<=lammax)\n",
    "    idx  = idx & (data['zred']>zmin) & (data['zred']<=zmax)\n",
    "    ra   = data['ra'].values[idx]\n",
    "    dec  = data['dec'].values[idx]\n",
    "    zred = data['zred'].values[idx]\n",
    "    #as we have no weights to apply we set them to unity\n",
    "    wgt  = ra*1.0/ra\n",
    "    print('number of lenses=%d'%len(ra))\n",
    "    return ra, dec, zred, wgt\n"
   ]
  },
  {
   "cell_type": "code",
   "execution_count": 5,
   "metadata": {},
   "outputs": [],
   "source": [
    "# sanity cheaks on the source files\n",
    "def read_sources(ifil):\n",
    "    # various columns in sources \n",
    "    # ragal, decgal, e1gal, e2gal, wgal, rms_egal, mgal, c1gal, c2gal, R2gal, zphotgal\n",
    "    data = pd.read_csv(ifil, delim_whitespace=1).values\n",
    "    zphotgal = data[:,-1]\n",
    "    # sanity checks on the sources data\n",
    "    idx = (np.sum(np.isnan(data), axis=1)==0) &  (zphotgal>0)\n",
    "    datagal = np.zeros((np.sum(idx),7))\n",
    "    datagal[:,:6] = data[idx,:6]\n",
    "    datagal[:,6]  = data[idx,-1]\n",
    "    # collects only -  ragal, decgal, e1gal, e2gal, wgal, rms_egal, zphotgal\n",
    "    return datagal"
   ]
  },
  {
   "cell_type": "code",
   "execution_count": 6,
   "metadata": {},
   "outputs": [],
   "source": [
    "def get_et(lra, ldec, sra, sdec, se1, se2):\n",
    "    lra  = lra*np.pi/180\n",
    "    ldec = ldec*np.pi/180\n",
    "    sra  = sra*np.pi/180\n",
    "    sdec = sdec*np.pi/180\n",
    "\n",
    "    c_theta = np.cos(ldec)*np.cos(sdec)*np.cos(lra - sra) + np.sin(ldec)*np.sin(sdec)\n",
    "    s_theta = np.sqrt(1-c_theta**2)\n",
    "\n",
    "    # phi to get the compute the tangential shear\n",
    "    c_phi   = np.cos(ldec)*np.sin(sra - lra)*1.0/s_theta\n",
    "    s_phi   = (-np.sin(ldec)*np.cos(sdec) + np.cos(ldec)*np.cos(sra - lra)*np.sin(sdec))*1.0/s_theta\n",
    "    # tangential shear\n",
    "    e_t     = - se1*(2*c_phi**2 -1) - se2*(2*c_phi * s_phi)\n",
    "\n",
    "    return e_t"
   ]
  },
  {
   "cell_type": "code",
   "execution_count": 7,
   "metadata": {},
   "outputs": [
    {
     "name": "stdout",
     "output_type": "stream",
     "text": [
      "-0.04534629189830734\n"
     ]
    }
   ],
   "source": [
    "print(get_et(lra=0, ldec=0, sra=0.123, sdec=0.045, se1 = 4.5e-2, se2 = 1.7e-2))"
   ]
  },
  {
   "cell_type": "code",
   "execution_count": 8,
   "metadata": {},
   "outputs": [],
   "source": [
    "def get_sigma_crit_inv(lzred, szred, cc):\n",
    "    # some important constants for the sigma crit computations\n",
    "    gee = 4.301e-9 #km^2 Mpc M_sun^-1 s^-2 gravitational constant\n",
    "    cee = 3e5 #km s^-1\n",
    "    # sigma_crit_calculations for a given lense-source pair\n",
    "    sigm_crit_inv = cc.angular_diameter_distance(lzred).value * cc.angular_diameter_distance_z1z2(lzred, szred).value * (1.0 + lzred)**2 * 1.0/cc.angular_diameter_distance(szred).value\n",
    "    sigm_crit_inv = sigm_crit_inv * 4*np.pi*gee*1.0/cee**2 \n",
    "    sigm_crit_inv = 1e12*sigm_crit_inv #esd's are in pc not in Mpc\n",
    "\n",
    "    return sigm_crit_inv"
   ]
  },
  {
   "cell_type": "code",
   "execution_count": 9,
   "metadata": {},
   "outputs": [
    {
     "name": "stdout",
     "output_type": "stream",
     "text": [
      "0.00030436585298495184\n"
     ]
    }
   ],
   "source": [
    "from astropy.cosmology import FlatLambdaCDM\n",
    "cc = FlatLambdaCDM(H0=100, Om0=0.999)\n",
    "print(get_sigma_crit_inv(lzred=0.33, szred=0.8, cc=cc))"
   ]
  },
  {
   "cell_type": "code",
   "execution_count": 10,
   "metadata": {},
   "outputs": [],
   "source": [
    "\n",
    "def run_pipe(Omegam=0.315, rmin=0.2, rmax=2.0, nbins=10, zdiff=0.4, outputfile = 'astrotwin_dsigma.dat'):\n",
    "    #set the cosmology with omegaM parameter \n",
    "    cc = FlatLambdaCDM(H0=100, Om0=Omegam) # fixing H0=100 to set units in Mpc h-1\n",
    "    \n",
    "    # set the projected radial binning \n",
    "    rmin  =  rmin\n",
    "    rmax  =  rmax\n",
    "    nbins = nbins #10 radial bins for our case\n",
    "    rbins  = np.logspace(np.log10(rmin), np.log10(rmax), nbins + 1)\n",
    "    rdiff  = np.log10(rbins[1]*1.0/rbins[0])\n",
    " \n",
    "    # initializing arrays for signal compuations\n",
    "    sumdsig_num   = np.zeros(len(rbins[:-1]))\n",
    "    sumdsigsq_num = np.zeros(len(rbins[:-1]))\n",
    "    sumwls        = np.zeros(len(rbins[:-1]))\n",
    "    sumwls_resp   = np.zeros(len(rbins[:-1]))\n",
    "\n",
    "    # getting the lenses data\n",
    "    lra, ldec, lred, lwgt = lens_select(zmin=0.1, zmax=0.33, lammin=55, lammax=100)\n",
    "\n",
    "    # convert lense ra and dec into x,y,z cartesian coordinates\n",
    "    lx, ly, lz = get_xyz(lra, ldec)\n",
    "     \n",
    "    # putting kd tree around the lenses\n",
    "    lens_tree = cKDTree(np.array([lx, ly, lz]).T)\n",
    "    \n",
    "    \n",
    "    print('lenses tree is ready\\n')\n",
    "    \n",
    "    # setting maximum search radius\n",
    "    dcommin = cc.comoving_distance(np.min(lred)).value\n",
    "    dismax  = (rmax*1.0/(dcommin)) \n",
    "\n",
    "    # lets first catch the file list for sources\n",
    "    sflist = np.sort(glob.glob('/home/idies/workspace/Storage/divyar/AstroTwin_Colo_2024/DataStore/hsc/*.dat'))\n",
    "\n",
    "    # Ready to pounce on the source data\n",
    "    for ifil in sflist:\n",
    "        # catching the source data matrix\n",
    "        # please have a check for the columns names\n",
    "        datagal = read_sources(ifil)\n",
    "        Ngal = len(datagal[:,0])  # total number of galaxies in the source file\n",
    "        # first two entries are ra and dec for the sources\n",
    "        allragal  = datagal[:,0]\n",
    "        alldecgal = datagal[:,1]\n",
    "        # ra and dec to x,y,z for sources\n",
    "        allsx, allsy, allsz = get_xyz(allragal, alldecgal)\n",
    "        # query in a ball around individual sources and collect the lenses ids with a maximum radius\n",
    "        slidx = lens_tree.query_ball_point(np.transpose([allsx, allsy, allsz]), dismax) \n",
    "        # various columns in sources \n",
    "        # ragal, decgal, e1gal, e2gal, wgal, rms_egal, mgal, c1gal, c2gal, R2gal, zphotgal\n",
    "        # looping over all the galaxies\n",
    "        for igal in range(Ngal):    \n",
    "            ragal    = datagal[igal,0]\n",
    "            decgal   = datagal[igal,1]\n",
    "            e1gal    = datagal[igal,2]\n",
    "            e2gal    = datagal[igal,3]\n",
    "            wgal     = datagal[igal,4]\n",
    "            rms_egal = datagal[igal,5]\n",
    "            zphotgal = datagal[igal,6]\n",
    "           \n",
    "            # array of lenses indices\n",
    "            lidx = np.array(slidx[igal])\n",
    "            # removing sources which doesn't have any lenses around them \n",
    "            if len(lidx)==0:\n",
    "                continue\n",
    "           \n",
    "            # selecting a cleaner background\n",
    "            zcut = (lred[lidx] < (zphotgal - zdiff)) #only taking the foreground lenses\n",
    "            # again skipping the onces which doesn't satisfy the above criteria\n",
    "            if np.sum(zcut)==0.0:\n",
    "                continue\n",
    "            # collecting the  data of lenses around individual source\n",
    "            lidx   = lidx[zcut] # this will catch the array indices for our lenses\n",
    "            sra    = ragal\n",
    "            sdec   = decgal\n",
    "            \n",
    "            l_ra   = lra[lidx]\n",
    "            l_dec  = ldec[lidx]\n",
    "            l_zred = lred[lidx] \n",
    "            l_wgt  = lwgt[lidx] \n",
    "           \n",
    "            sx, sy, sz = get_xyz(sra,sdec) # individual galaxy ra,dec-->x,y,z\n",
    "            lx, ly, lz = get_xyz(l_ra,l_dec) # individual galaxy ra,dec-->x,y,z\n",
    "            \n",
    "            # getting the radial separations for a lense source pair \n",
    "            sl_sep = np.sqrt((lx - sx)**2 + (ly - sy)**2 + (lz - sz)**2)\n",
    "            sl_sep = sl_sep * cc.comoving_distance(l_zred).value\n",
    "            for ll,sep in enumerate(sl_sep):\n",
    "                if sep<rmin or sep>rmax:\n",
    "                    continue\n",
    "                rb = int(np.log10(sep*1.0/rmin)*1/rdiff)\n",
    "               \n",
    "                # get tangantial components given positions and shapes\n",
    "                e_t = get_et(lra = l_ra[ll], ldec = l_dec[ll], sra = sra, sdec = sdec, se1 = e1gal,  se2 = e2gal)\n",
    "\n",
    "                # sigma_crit_calculations for a given lense-source pair\n",
    "                sigm_crit_inv = get_sigma_crit_inv(l_zred[ll], zphotgal, cc)\n",
    "\n",
    "                # following equations given in the surhud's lectures \n",
    "                w_ls    = l_wgt[ll] * wgal * (sigm_crit_inv)**2\n",
    "                w_ls_by_av_sigc_inv = l_wgt[ll] * wgal * sigm_crit_inv\n",
    "\n",
    "                # separate numerator and denominator computation   \n",
    "                sumdsig_num[rb]   += w_ls_by_av_sigc_inv  * e_t\n",
    "                sumdsigsq_num[rb] += (w_ls_by_av_sigc_inv * e_t)**2\n",
    "                sumwls[rb]        += w_ls\n",
    "                sumwls_resp[rb]   += w_ls * (1-rms_egal**2)\n",
    "\n",
    "        print(ifil)\n",
    "        \n",
    "      \n",
    "    fout = open(outputfile, \"w\")\n",
    "    fout.write(\"# 0:rmin/2+rmax/2 1:DeltaSigma 2:SN_ErrDeltaSigma\\n\")\n",
    "    for i in range(len(rbins[:-1])):\n",
    "        rrmin = rbins[i]\n",
    "        rrmax = rbins[i+1]\n",
    "        Resp = sumwls_resp[i]*1.0/sumwls[i]\n",
    "        \n",
    "        fout.write(\"%le\\t%le\\t%le\\n\"%(rrmin/2.0+rrmax/2.0, sumdsig_num[i]*1.0/sumwls[i]/2./Resp, np.sqrt(sumdsigsq_num[i])*1.0/sumwls[i]/2./Resp))\n",
    "    fout.write(\"#OK\")    \n",
    "    fout.close()\n",
    "    \n",
    "    return 0"
   ]
  },
  {
   "cell_type": "code",
   "execution_count": 11,
   "metadata": {},
   "outputs": [
    {
     "name": "stdout",
     "output_type": "stream",
     "text": [
      "number of lenses=560\n",
      "lenses tree is ready\n",
      "\n",
      "/home/idies/workspace/Storage/divyar/AstroTwin_Colo_2024/DataStore/hsc/0000.dat\n",
      "/home/idies/workspace/Storage/divyar/AstroTwin_Colo_2024/DataStore/hsc/0001.dat\n",
      "/home/idies/workspace/Storage/divyar/AstroTwin_Colo_2024/DataStore/hsc/0002.dat\n",
      "/home/idies/workspace/Storage/divyar/AstroTwin_Colo_2024/DataStore/hsc/0003.dat\n",
      "/home/idies/workspace/Storage/divyar/AstroTwin_Colo_2024/DataStore/hsc/0004.dat\n",
      "/home/idies/workspace/Storage/divyar/AstroTwin_Colo_2024/DataStore/hsc/0005.dat\n",
      "/home/idies/workspace/Storage/divyar/AstroTwin_Colo_2024/DataStore/hsc/0006.dat\n",
      "/home/idies/workspace/Storage/divyar/AstroTwin_Colo_2024/DataStore/hsc/0007.dat\n",
      "/home/idies/workspace/Storage/divyar/AstroTwin_Colo_2024/DataStore/hsc/0008.dat\n",
      "/home/idies/workspace/Storage/divyar/AstroTwin_Colo_2024/DataStore/hsc/0009.dat\n",
      "/home/idies/workspace/Storage/divyar/AstroTwin_Colo_2024/DataStore/hsc/0010.dat\n",
      "/home/idies/workspace/Storage/divyar/AstroTwin_Colo_2024/DataStore/hsc/0011.dat\n",
      "/home/idies/workspace/Storage/divyar/AstroTwin_Colo_2024/DataStore/hsc/0012.dat\n",
      "/home/idies/workspace/Storage/divyar/AstroTwin_Colo_2024/DataStore/hsc/0013.dat\n",
      "/home/idies/workspace/Storage/divyar/AstroTwin_Colo_2024/DataStore/hsc/0014.dat\n",
      "/home/idies/workspace/Storage/divyar/AstroTwin_Colo_2024/DataStore/hsc/0015.dat\n",
      "/home/idies/workspace/Storage/divyar/AstroTwin_Colo_2024/DataStore/hsc/0016.dat\n",
      "/home/idies/workspace/Storage/divyar/AstroTwin_Colo_2024/DataStore/hsc/0017.dat\n",
      "/home/idies/workspace/Storage/divyar/AstroTwin_Colo_2024/DataStore/hsc/0018.dat\n",
      "/home/idies/workspace/Storage/divyar/AstroTwin_Colo_2024/DataStore/hsc/0019.dat\n",
      "/home/idies/workspace/Storage/divyar/AstroTwin_Colo_2024/DataStore/hsc/0020.dat\n",
      "/home/idies/workspace/Storage/divyar/AstroTwin_Colo_2024/DataStore/hsc/0021.dat\n",
      "/home/idies/workspace/Storage/divyar/AstroTwin_Colo_2024/DataStore/hsc/0022.dat\n",
      "/home/idies/workspace/Storage/divyar/AstroTwin_Colo_2024/DataStore/hsc/0023.dat\n",
      "/home/idies/workspace/Storage/divyar/AstroTwin_Colo_2024/DataStore/hsc/0024.dat\n",
      "/home/idies/workspace/Storage/divyar/AstroTwin_Colo_2024/DataStore/hsc/0025.dat\n",
      "/home/idies/workspace/Storage/divyar/AstroTwin_Colo_2024/DataStore/hsc/0026.dat\n",
      "/home/idies/workspace/Storage/divyar/AstroTwin_Colo_2024/DataStore/hsc/0027.dat\n",
      "/home/idies/workspace/Storage/divyar/AstroTwin_Colo_2024/DataStore/hsc/0028.dat\n",
      "/home/idies/workspace/Storage/divyar/AstroTwin_Colo_2024/DataStore/hsc/0029.dat\n",
      "/home/idies/workspace/Storage/divyar/AstroTwin_Colo_2024/DataStore/hsc/0030.dat\n",
      "/home/idies/workspace/Storage/divyar/AstroTwin_Colo_2024/DataStore/hsc/0031.dat\n",
      "/home/idies/workspace/Storage/divyar/AstroTwin_Colo_2024/DataStore/hsc/0032.dat\n",
      "/home/idies/workspace/Storage/divyar/AstroTwin_Colo_2024/DataStore/hsc/0033.dat\n",
      "/home/idies/workspace/Storage/divyar/AstroTwin_Colo_2024/DataStore/hsc/0034.dat\n",
      "/home/idies/workspace/Storage/divyar/AstroTwin_Colo_2024/DataStore/hsc/0035.dat\n",
      "/home/idies/workspace/Storage/divyar/AstroTwin_Colo_2024/DataStore/hsc/0036.dat\n",
      "/home/idies/workspace/Storage/divyar/AstroTwin_Colo_2024/DataStore/hsc/0037.dat\n",
      "/home/idies/workspace/Storage/divyar/AstroTwin_Colo_2024/DataStore/hsc/0038.dat\n",
      "/home/idies/workspace/Storage/divyar/AstroTwin_Colo_2024/DataStore/hsc/0039.dat\n",
      "/home/idies/workspace/Storage/divyar/AstroTwin_Colo_2024/DataStore/hsc/0040.dat\n",
      "/home/idies/workspace/Storage/divyar/AstroTwin_Colo_2024/DataStore/hsc/0041.dat\n",
      "/home/idies/workspace/Storage/divyar/AstroTwin_Colo_2024/DataStore/hsc/0042.dat\n",
      "/home/idies/workspace/Storage/divyar/AstroTwin_Colo_2024/DataStore/hsc/0043.dat\n",
      "/home/idies/workspace/Storage/divyar/AstroTwin_Colo_2024/DataStore/hsc/0044.dat\n",
      "/home/idies/workspace/Storage/divyar/AstroTwin_Colo_2024/DataStore/hsc/0045.dat\n",
      "/home/idies/workspace/Storage/divyar/AstroTwin_Colo_2024/DataStore/hsc/0046.dat\n",
      "/home/idies/workspace/Storage/divyar/AstroTwin_Colo_2024/DataStore/hsc/0047.dat\n",
      "/home/idies/workspace/Storage/divyar/AstroTwin_Colo_2024/DataStore/hsc/0048.dat\n",
      "/home/idies/workspace/Storage/divyar/AstroTwin_Colo_2024/DataStore/hsc/0049.dat\n",
      "/home/idies/workspace/Storage/divyar/AstroTwin_Colo_2024/DataStore/hsc/0050.dat\n",
      "/home/idies/workspace/Storage/divyar/AstroTwin_Colo_2024/DataStore/hsc/0051.dat\n",
      "/home/idies/workspace/Storage/divyar/AstroTwin_Colo_2024/DataStore/hsc/0052.dat\n",
      "/home/idies/workspace/Storage/divyar/AstroTwin_Colo_2024/DataStore/hsc/0053.dat\n",
      "/home/idies/workspace/Storage/divyar/AstroTwin_Colo_2024/DataStore/hsc/0054.dat\n",
      "/home/idies/workspace/Storage/divyar/AstroTwin_Colo_2024/DataStore/hsc/0055.dat\n",
      "/home/idies/workspace/Storage/divyar/AstroTwin_Colo_2024/DataStore/hsc/0056.dat\n",
      "/home/idies/workspace/Storage/divyar/AstroTwin_Colo_2024/DataStore/hsc/0057.dat\n",
      "/home/idies/workspace/Storage/divyar/AstroTwin_Colo_2024/DataStore/hsc/0058.dat\n",
      "/home/idies/workspace/Storage/divyar/AstroTwin_Colo_2024/DataStore/hsc/0059.dat\n",
      "/home/idies/workspace/Storage/divyar/AstroTwin_Colo_2024/DataStore/hsc/0060.dat\n",
      "/home/idies/workspace/Storage/divyar/AstroTwin_Colo_2024/DataStore/hsc/0061.dat\n",
      "/home/idies/workspace/Storage/divyar/AstroTwin_Colo_2024/DataStore/hsc/0062.dat\n",
      "/home/idies/workspace/Storage/divyar/AstroTwin_Colo_2024/DataStore/hsc/0063.dat\n",
      "/home/idies/workspace/Storage/divyar/AstroTwin_Colo_2024/DataStore/hsc/0064.dat\n",
      "/home/idies/workspace/Storage/divyar/AstroTwin_Colo_2024/DataStore/hsc/0065.dat\n",
      "/home/idies/workspace/Storage/divyar/AstroTwin_Colo_2024/DataStore/hsc/0066.dat\n",
      "/home/idies/workspace/Storage/divyar/AstroTwin_Colo_2024/DataStore/hsc/0067.dat\n",
      "/home/idies/workspace/Storage/divyar/AstroTwin_Colo_2024/DataStore/hsc/0068.dat\n",
      "/home/idies/workspace/Storage/divyar/AstroTwin_Colo_2024/DataStore/hsc/0069.dat\n",
      "/home/idies/workspace/Storage/divyar/AstroTwin_Colo_2024/DataStore/hsc/0070.dat\n",
      "/home/idies/workspace/Storage/divyar/AstroTwin_Colo_2024/DataStore/hsc/0071.dat\n",
      "/home/idies/workspace/Storage/divyar/AstroTwin_Colo_2024/DataStore/hsc/0072.dat\n",
      "/home/idies/workspace/Storage/divyar/AstroTwin_Colo_2024/DataStore/hsc/0073.dat\n",
      "/home/idies/workspace/Storage/divyar/AstroTwin_Colo_2024/DataStore/hsc/0074.dat\n",
      "/home/idies/workspace/Storage/divyar/AstroTwin_Colo_2024/DataStore/hsc/0075.dat\n",
      "/home/idies/workspace/Storage/divyar/AstroTwin_Colo_2024/DataStore/hsc/0076.dat\n",
      "/home/idies/workspace/Storage/divyar/AstroTwin_Colo_2024/DataStore/hsc/0077.dat\n",
      "/home/idies/workspace/Storage/divyar/AstroTwin_Colo_2024/DataStore/hsc/0078.dat\n",
      "/home/idies/workspace/Storage/divyar/AstroTwin_Colo_2024/DataStore/hsc/0079.dat\n",
      "/home/idies/workspace/Storage/divyar/AstroTwin_Colo_2024/DataStore/hsc/0080.dat\n",
      "/home/idies/workspace/Storage/divyar/AstroTwin_Colo_2024/DataStore/hsc/0081.dat\n",
      "/home/idies/workspace/Storage/divyar/AstroTwin_Colo_2024/DataStore/hsc/0082.dat\n",
      "/home/idies/workspace/Storage/divyar/AstroTwin_Colo_2024/DataStore/hsc/0083.dat\n",
      "/home/idies/workspace/Storage/divyar/AstroTwin_Colo_2024/DataStore/hsc/0084.dat\n",
      "/home/idies/workspace/Storage/divyar/AstroTwin_Colo_2024/DataStore/hsc/0085.dat\n",
      "/home/idies/workspace/Storage/divyar/AstroTwin_Colo_2024/DataStore/hsc/0086.dat\n",
      "/home/idies/workspace/Storage/divyar/AstroTwin_Colo_2024/DataStore/hsc/0087.dat\n",
      "/home/idies/workspace/Storage/divyar/AstroTwin_Colo_2024/DataStore/hsc/0088.dat\n",
      "/home/idies/workspace/Storage/divyar/AstroTwin_Colo_2024/DataStore/hsc/0089.dat\n",
      "/home/idies/workspace/Storage/divyar/AstroTwin_Colo_2024/DataStore/hsc/0090.dat\n",
      "/home/idies/workspace/Storage/divyar/AstroTwin_Colo_2024/DataStore/hsc/0091.dat\n",
      "/home/idies/workspace/Storage/divyar/AstroTwin_Colo_2024/DataStore/hsc/0092.dat\n",
      "/home/idies/workspace/Storage/divyar/AstroTwin_Colo_2024/DataStore/hsc/0093.dat\n",
      "/home/idies/workspace/Storage/divyar/AstroTwin_Colo_2024/DataStore/hsc/0094.dat\n",
      "/home/idies/workspace/Storage/divyar/AstroTwin_Colo_2024/DataStore/hsc/0095.dat\n",
      "/home/idies/workspace/Storage/divyar/AstroTwin_Colo_2024/DataStore/hsc/0096.dat\n",
      "/home/idies/workspace/Storage/divyar/AstroTwin_Colo_2024/DataStore/hsc/0097.dat\n",
      "/home/idies/workspace/Storage/divyar/AstroTwin_Colo_2024/DataStore/hsc/0098.dat\n",
      "/home/idies/workspace/Storage/divyar/AstroTwin_Colo_2024/DataStore/hsc/0099.dat\n",
      "/home/idies/workspace/Storage/divyar/AstroTwin_Colo_2024/DataStore/hsc/0100.dat\n",
      "/home/idies/workspace/Storage/divyar/AstroTwin_Colo_2024/DataStore/hsc/0101.dat\n"
     ]
    },
    {
     "name": "stdout",
     "output_type": "stream",
     "text": [
      "/home/idies/workspace/Storage/divyar/AstroTwin_Colo_2024/DataStore/hsc/0102.dat\n",
      "/home/idies/workspace/Storage/divyar/AstroTwin_Colo_2024/DataStore/hsc/0103.dat\n",
      "/home/idies/workspace/Storage/divyar/AstroTwin_Colo_2024/DataStore/hsc/0104.dat\n",
      "/home/idies/workspace/Storage/divyar/AstroTwin_Colo_2024/DataStore/hsc/0105.dat\n",
      "/home/idies/workspace/Storage/divyar/AstroTwin_Colo_2024/DataStore/hsc/0106.dat\n",
      "/home/idies/workspace/Storage/divyar/AstroTwin_Colo_2024/DataStore/hsc/0107.dat\n",
      "/home/idies/workspace/Storage/divyar/AstroTwin_Colo_2024/DataStore/hsc/0108.dat\n",
      "/home/idies/workspace/Storage/divyar/AstroTwin_Colo_2024/DataStore/hsc/0109.dat\n",
      "/home/idies/workspace/Storage/divyar/AstroTwin_Colo_2024/DataStore/hsc/0110.dat\n",
      "/home/idies/workspace/Storage/divyar/AstroTwin_Colo_2024/DataStore/hsc/0111.dat\n",
      "/home/idies/workspace/Storage/divyar/AstroTwin_Colo_2024/DataStore/hsc/0112.dat\n",
      "/home/idies/workspace/Storage/divyar/AstroTwin_Colo_2024/DataStore/hsc/0113.dat\n",
      "/home/idies/workspace/Storage/divyar/AstroTwin_Colo_2024/DataStore/hsc/0114.dat\n",
      "/home/idies/workspace/Storage/divyar/AstroTwin_Colo_2024/DataStore/hsc/0115.dat\n",
      "/home/idies/workspace/Storage/divyar/AstroTwin_Colo_2024/DataStore/hsc/0116.dat\n",
      "/home/idies/workspace/Storage/divyar/AstroTwin_Colo_2024/DataStore/hsc/0117.dat\n",
      "/home/idies/workspace/Storage/divyar/AstroTwin_Colo_2024/DataStore/hsc/0118.dat\n",
      "/home/idies/workspace/Storage/divyar/AstroTwin_Colo_2024/DataStore/hsc/0119.dat\n",
      "/home/idies/workspace/Storage/divyar/AstroTwin_Colo_2024/DataStore/hsc/0120.dat\n",
      "/home/idies/workspace/Storage/divyar/AstroTwin_Colo_2024/DataStore/hsc/0121.dat\n",
      "/home/idies/workspace/Storage/divyar/AstroTwin_Colo_2024/DataStore/hsc/0122.dat\n",
      "/home/idies/workspace/Storage/divyar/AstroTwin_Colo_2024/DataStore/hsc/0123.dat\n",
      "/home/idies/workspace/Storage/divyar/AstroTwin_Colo_2024/DataStore/hsc/0124.dat\n",
      "/home/idies/workspace/Storage/divyar/AstroTwin_Colo_2024/DataStore/hsc/0125.dat\n",
      "/home/idies/workspace/Storage/divyar/AstroTwin_Colo_2024/DataStore/hsc/0126.dat\n",
      "/home/idies/workspace/Storage/divyar/AstroTwin_Colo_2024/DataStore/hsc/0127.dat\n",
      "/home/idies/workspace/Storage/divyar/AstroTwin_Colo_2024/DataStore/hsc/0128.dat\n",
      "/home/idies/workspace/Storage/divyar/AstroTwin_Colo_2024/DataStore/hsc/0129.dat\n",
      "/home/idies/workspace/Storage/divyar/AstroTwin_Colo_2024/DataStore/hsc/0130.dat\n",
      "/home/idies/workspace/Storage/divyar/AstroTwin_Colo_2024/DataStore/hsc/0131.dat\n",
      "/home/idies/workspace/Storage/divyar/AstroTwin_Colo_2024/DataStore/hsc/0132.dat\n",
      "/home/idies/workspace/Storage/divyar/AstroTwin_Colo_2024/DataStore/hsc/0133.dat\n",
      "/home/idies/workspace/Storage/divyar/AstroTwin_Colo_2024/DataStore/hsc/0134.dat\n",
      "/home/idies/workspace/Storage/divyar/AstroTwin_Colo_2024/DataStore/hsc/0135.dat\n",
      "/home/idies/workspace/Storage/divyar/AstroTwin_Colo_2024/DataStore/hsc/0136.dat\n",
      "/home/idies/workspace/Storage/divyar/AstroTwin_Colo_2024/DataStore/hsc/0137.dat\n",
      "/home/idies/workspace/Storage/divyar/AstroTwin_Colo_2024/DataStore/hsc/0138.dat\n",
      "/home/idies/workspace/Storage/divyar/AstroTwin_Colo_2024/DataStore/hsc/0139.dat\n",
      "/home/idies/workspace/Storage/divyar/AstroTwin_Colo_2024/DataStore/hsc/0140.dat\n",
      "/home/idies/workspace/Storage/divyar/AstroTwin_Colo_2024/DataStore/hsc/0141.dat\n",
      "/home/idies/workspace/Storage/divyar/AstroTwin_Colo_2024/DataStore/hsc/0142.dat\n",
      "/home/idies/workspace/Storage/divyar/AstroTwin_Colo_2024/DataStore/hsc/0143.dat\n",
      "/home/idies/workspace/Storage/divyar/AstroTwin_Colo_2024/DataStore/hsc/0144.dat\n",
      "/home/idies/workspace/Storage/divyar/AstroTwin_Colo_2024/DataStore/hsc/0145.dat\n",
      "/home/idies/workspace/Storage/divyar/AstroTwin_Colo_2024/DataStore/hsc/0146.dat\n",
      "/home/idies/workspace/Storage/divyar/AstroTwin_Colo_2024/DataStore/hsc/0147.dat\n",
      "/home/idies/workspace/Storage/divyar/AstroTwin_Colo_2024/DataStore/hsc/0148.dat\n",
      "/home/idies/workspace/Storage/divyar/AstroTwin_Colo_2024/DataStore/hsc/0149.dat\n",
      "/home/idies/workspace/Storage/divyar/AstroTwin_Colo_2024/DataStore/hsc/0150.dat\n",
      "/home/idies/workspace/Storage/divyar/AstroTwin_Colo_2024/DataStore/hsc/0151.dat\n"
     ]
    },
    {
     "data": {
      "text/plain": [
       "0"
      ]
     },
     "execution_count": 11,
     "metadata": {},
     "output_type": "execute_result"
    }
   ],
   "source": [
    "run_pipe()"
   ]
  },
  {
   "cell_type": "code",
   "execution_count": 12,
   "metadata": {},
   "outputs": [
    {
     "data": {
      "image/png": "[encoded data removed]",
      "text/plain": [
       "<Figure size 432x288 with 1 Axes>"
      ]
     },
     "metadata": {
      "needs_background": "light"
     },
     "output_type": "display_data"
    }
   ],
   "source": [
    "dat = np.loadtxt('astrotwin_dsigma.dat')\n",
    "\n",
    "plt.errorbar(dat[:,0], dat[:,1], yerr=dat[:,2], fmt='.', capsize=3, label='Data')\n",
    "plt.legend()\n",
    "\n",
    "plt.xlabel(r'$R[{\\rm h^{-1}Mpc}]$')\n",
    "plt.ylabel(r'$\\Delta\\Sigma [{\\rm h M_\\odot pc^{-2}}]$')\n",
    "plt.xscale('log')\n",
    "plt.yscale('log')"
   ]
  },
  {
   "cell_type": "code",
   "execution_count": null,
   "metadata": {},
   "outputs": [],
   "source": []
  }
 ],
 "metadata": {
  "kernelspec": {
   "display_name": "Python 3 (ipykernel)",
   "language": "python",
   "name": "python3"
  },
  "language_info": {
   "codemirror_mode": {
    "name": "ipython",
    "version": 3
   },
   "file_extension": ".py",
   "mimetype": "text/x-python",
   "name": "python",
   "nbconvert_exporter": "python",
   "pygments_lexer": "ipython3",
   "version": "3.11.9"
  }
 },
 "nbformat": 4,
 "nbformat_minor": 4
}
